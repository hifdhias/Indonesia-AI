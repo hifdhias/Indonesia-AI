{
 "cells": [
  {
   "cell_type": "code",
   "execution_count": 7,
   "id": "a918f686",
   "metadata": {},
   "outputs": [
    {
     "name": "stdout",
     "output_type": "stream",
     "text": [
      "Masukkan nilai ujian teori: 66\n",
      "Masukkan nilai ujian praktek: 55\n",
      "Anda harus mengulang ujian teori dan praktek.\n"
     ]
    }
   ],
   "source": [
    "Nilai_Teori = float(input(\"Masukkan nilai ujian teori: \"))\n",
    "Nilai_Praktek = float(input(\"Masukkan nilai ujian praktek: \"))\n",
    "if Nilai_Teori>=70 and Nilai_Praktek>=70:\n",
    "    print(\"Selamat, anda lulus!\")\n",
    "elif Nilai_Teori>=70 and Nilai_Praktek<70:\n",
    "    print(\"Anda harus mengulang ujian praktek.\")\n",
    "elif Nilai_Teori<70 and Nilai_Praktek>=70:\n",
    "    print(\"Anda harus mengulang ujian teori.\")\n",
    "else:\n",
    "    print(\"Anda harus mengulang ujian teori dan praktek.\")"
   ]
  },
  {
   "cell_type": "code",
   "execution_count": null,
   "id": "312ee087",
   "metadata": {},
   "outputs": [],
   "source": []
  }
 ],
 "metadata": {
  "kernelspec": {
   "display_name": "Python 3 (ipykernel)",
   "language": "python",
   "name": "python3"
  },
  "language_info": {
   "codemirror_mode": {
    "name": "ipython",
    "version": 3
   },
   "file_extension": ".py",
   "mimetype": "text/x-python",
   "name": "python",
   "nbconvert_exporter": "python",
   "pygments_lexer": "ipython3",
   "version": "3.10.5"
  }
 },
 "nbformat": 4,
 "nbformat_minor": 5
}
