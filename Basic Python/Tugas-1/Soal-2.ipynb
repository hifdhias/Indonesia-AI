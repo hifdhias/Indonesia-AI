{
 "cells": [
  {
   "cell_type": "code",
   "execution_count": 6,
   "id": "a58fab8c",
   "metadata": {},
   "outputs": [
    {
     "name": "stdout",
     "output_type": "stream",
     "text": [
      "Masukkan jari-jari lingkaran (cm): 10\n",
      "Luas lingkaran dengan jari-jari 10 cm adalah 314.29 cm².\n"
     ]
    }
   ],
   "source": [
    "r = int(input(\"Masukkan jari-jari lingkaran (cm): \")) #Jari-jari lingkaran\n",
    "Π = 22/7\n",
    "L = Π*r**2 #Luas Lingkaran\n",
    "print(\"Luas lingkaran dengan jari-jari {} cm adalah {:.2f} cm\\u00b2.\".format(r, L))"
   ]
  },
  {
   "cell_type": "code",
   "execution_count": null,
   "id": "67c9a657",
   "metadata": {},
   "outputs": [],
   "source": []
  }
 ],
 "metadata": {
  "kernelspec": {
   "display_name": "Python 3 (ipykernel)",
   "language": "python",
   "name": "python3"
  },
  "language_info": {
   "codemirror_mode": {
    "name": "ipython",
    "version": 3
   },
   "file_extension": ".py",
   "mimetype": "text/x-python",
   "name": "python",
   "nbconvert_exporter": "python",
   "pygments_lexer": "ipython3",
   "version": "3.10.5"
  }
 },
 "nbformat": 4,
 "nbformat_minor": 5
}
