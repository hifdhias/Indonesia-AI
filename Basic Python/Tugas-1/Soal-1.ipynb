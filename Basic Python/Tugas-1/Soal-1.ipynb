{
 "cells": [
  {
   "cell_type": "code",
   "execution_count": 5,
   "id": "85b724ed",
   "metadata": {},
   "outputs": [
    {
     "name": "stdout",
     "output_type": "stream",
     "text": [
      "Nama Anda: Hif\n",
      "Umur Anda: 27\n",
      "Tinggi Anda: 169\n",
      "Nama saya Hif, umur saya 27 tahun dan tinggi saya 169.0 cm.\n"
     ]
    }
   ],
   "source": [
    "Nama = input(\"Nama Anda: \")\n",
    "Umur = int(input(\"Umur Anda: \"))\n",
    "Tinggi = float(input(\"Tinggi Anda: \"))\n",
    "print(\"Nama saya {}, umur saya {} tahun dan tinggi saya {} cm.\".format(Nama, Umur, Tinggi))"
   ]
  },
  {
   "cell_type": "code",
   "execution_count": null,
   "id": "587768fd",
   "metadata": {},
   "outputs": [],
   "source": []
  }
 ],
 "metadata": {
  "kernelspec": {
   "display_name": "Python 3 (ipykernel)",
   "language": "python",
   "name": "python3"
  },
  "language_info": {
   "codemirror_mode": {
    "name": "ipython",
    "version": 3
   },
   "file_extension": ".py",
   "mimetype": "text/x-python",
   "name": "python",
   "nbconvert_exporter": "python",
   "pygments_lexer": "ipython3",
   "version": "3.10.5"
  }
 },
 "nbformat": 4,
 "nbformat_minor": 5
}
