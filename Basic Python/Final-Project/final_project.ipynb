{
 "cells": [
  {
   "cell_type": "code",
   "execution_count": 5,
   "id": "1285b5c6",
   "metadata": {},
   "outputs": [
    {
     "name": "stdout",
     "output_type": "stream",
     "text": [
      "Email berhasil dikirim ke hifdhi.abdussalam@gmail.com\n",
      "Email berhasil dikirim ke fdhsalam@gmail.com\n",
      "Email berhasil dikirim ke dhearineka@gmail.com\n"
     ]
    }
   ],
   "source": [
    "import os\n",
    "import smtplib\n",
    "import imghdr\n",
    "from email.message import EmailMessage\n",
    "\n",
    "#Penentuan variable\n",
    "email_pengirim = os.environ.get('EMAIL_USER')\n",
    "email_password = os.environ.get('EMAIL_PASS')\n",
    "email_penerima = open(\"email_penerima.txt\", \"r\").read().split(\"\\n\")\n",
    "\n",
    "#Produr Pengiriman email\n",
    "for email in email_penerima:\n",
    "    pesan = EmailMessage()\n",
    "    pesan['Subject'] = 'Pengujian pengiriman email menggunakan Python Final'\n",
    "    pesan['From'] = email_pengirim\n",
    "    pesan['To'] = email\n",
    "    pesan.set_content(open(\"isi_email.txt\", \"r\").read(), subtype='html')\n",
    "    \n",
    "    #Penentuan File Attachment\n",
    "    Gambar = ['Gambar-1.png', 'Gambar-2.png']\n",
    "    Dokumen = ['Dokumen-1.docx']\n",
    "    \n",
    "    #Menambahkan Attachment Gambar\n",
    "    for file in Gambar:\n",
    "        with open (file, 'rb') as f:\n",
    "            f_data = f.read()\n",
    "            f_type = imghdr.what(f.name)\n",
    "            f_name = f.name\n",
    "        pesan.add_attachment(f_data, maintype='image', subtype=f_type, filename=f_name) \n",
    "    \n",
    "    #Menambahkan Attachment Dokumen\n",
    "    for file in Dokumen:\n",
    "        with open (file, 'rb') as f:\n",
    "            f_data = f.read()\n",
    "            f_type = 'octet-stream'\n",
    "            f_name = f.name\n",
    "        pesan.add_attachment(f_data, maintype='application', subtype=f_type, filename=f_name)\n",
    "    \n",
    "    #Proses login dan pengiriman email\n",
    "    with smtplib.SMTP_SSL('smtp.gmail.com', 465) as smtp:\n",
    "        smtp.login(email_pengirim, email_password)\n",
    "        smtp.send_message(pesan)\n",
    "\n",
    "    #Notifikasi pengiriman email\n",
    "    print(f'Email berhasil dikirim ke {email}')\n",
    "\n",
    "# reference:\n",
    "# https://www.youtube.com/watch?v=JRCJ6RtE3xU,\n",
    "# https://www.geeksforgeeks.org/how-to-read-text-file-into-list-in-python/"
   ]
  },
  {
   "cell_type": "code",
   "execution_count": null,
   "id": "8aea6e5a",
   "metadata": {},
   "outputs": [],
   "source": []
  }
 ],
 "metadata": {
  "kernelspec": {
   "display_name": "Python 3 (ipykernel)",
   "language": "python",
   "name": "python3"
  },
  "language_info": {
   "codemirror_mode": {
    "name": "ipython",
    "version": 3
   },
   "file_extension": ".py",
   "mimetype": "text/x-python",
   "name": "python",
   "nbconvert_exporter": "python",
   "pygments_lexer": "ipython3",
   "version": "3.10.5"
  }
 },
 "nbformat": 4,
 "nbformat_minor": 5
}
