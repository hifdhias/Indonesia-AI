{
 "cells": [
  {
   "cell_type": "code",
   "execution_count": 1,
   "id": "1285b5c6",
   "metadata": {},
   "outputs": [
    {
     "name": "stdout",
     "output_type": "stream",
     "text": [
      "Email berhasil dikirim ke 2 pelanggan\n"
     ]
    }
   ],
   "source": [
    "import os\n",
    "import smtplib as sm\n",
    "import imghdr as img\n",
    "from email.message import EmailMessage\n",
    "\n",
    "#Penentuan variable\n",
    "email_pengirim = os.environ.get('EMAIL_USER')\n",
    "email_password = os.environ.get('EMAIL_PASS')\n",
    "email_penerima = open('Email Penerima.txt', 'r').read().split('\\n')\n",
    "\n",
    "#Prosedur Pengiriman email\n",
    "i = 0\n",
    "for email in email_penerima:\n",
    "    pesan = EmailMessage()\n",
    "    pesan['Subject'] = 'Promo Special Hari ini!'\n",
    "    pesan['From'] = email_pengirim\n",
    "    pesan['To'] = email\n",
    "    pesan.set_content(open('Konten.txt', \"r\").read(), subtype='html')\n",
    "    \n",
    "    #Penentuan File Attachment\n",
    "    Gambar = ['Brosur.jpg', 'Flyer.jpg']\n",
    "    Dokumen = ['Price List.pdf']\n",
    "    \n",
    "    #Menambahkan Attachment Gambar\n",
    "    for file in Gambar:\n",
    "        with open (file, 'rb') as f:\n",
    "            f_data = f.read()\n",
    "            f_type = img.what(f.name)\n",
    "        pesan.add_attachment(f_data, maintype='image', subtype=f_type, filename=file) \n",
    "    \n",
    "    #Menambahkan Attachment Dokumen\n",
    "    for file in Dokumen:\n",
    "        with open (file, 'rb') as f:\n",
    "            f_data = f.read()\n",
    "            f_type = 'octet-stream'\n",
    "        pesan.add_attachment(f_data, maintype='application', subtype=f_type, filename=file)\n",
    "    \n",
    "    #Proses login dan pengiriman email\n",
    "    with sm.SMTP_SSL('smtp.gmail.com', 465) as smtp:\n",
    "        smtp.login(email_pengirim, email_password)\n",
    "        smtp.send_message(pesan)\n",
    "    i += 1\n",
    "    \n",
    "#Notifikasi pengiriman email\n",
    "print(f'Email berhasil dikirim ke {i} pelanggan')\n",
    "\n",
    "# reference:\n",
    "# https://www.youtube.com/watch?v=JRCJ6RtE3xU,\n",
    "# https://www.geeksforgeeks.org/how-to-read-text-file-into-list-in-python/"
   ]
  },
  {
   "cell_type": "code",
   "execution_count": null,
   "id": "f4a4f7b9",
   "metadata": {},
   "outputs": [],
   "source": []
  }
 ],
 "metadata": {
  "kernelspec": {
   "display_name": "Python 3 (ipykernel)",
   "language": "python",
   "name": "python3"
  },
  "language_info": {
   "codemirror_mode": {
    "name": "ipython",
    "version": 3
   },
   "file_extension": ".py",
   "mimetype": "text/x-python",
   "name": "python",
   "nbconvert_exporter": "python",
   "pygments_lexer": "ipython3",
   "version": "3.10.5"
  }
 },
 "nbformat": 4,
 "nbformat_minor": 5
}
